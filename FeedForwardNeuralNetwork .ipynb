{
  "nbformat": 4,
  "nbformat_minor": 0,
  "metadata": {
    "colab": {
      "name": "arunsingh.vellore@gmail.com_12.ipynb",
      "provenance": [],
      "collapsed_sections": []
    },
    "kernelspec": {
      "name": "python3",
      "display_name": "Python 3"
    }
  },
  "cells": [
    {
      "cell_type": "code",
      "metadata": {
        "id": "wy4HESsaa8Bf",
        "colab_type": "code",
        "colab": {}
      },
      "source": [
        "import numpy as np \n",
        "import matplotlib.pyplot as plt\n",
        "import seaborn as sns\n",
        "from keras.datasets import mnist\n",
        "from keras.models import Sequential\n",
        "from keras.utils import  np_utils\n",
        "from prettytable import PrettyTable\n",
        "from tensorflow import keras"
      ],
      "execution_count": 0,
      "outputs": []
    },
    {
      "cell_type": "code",
      "metadata": {
        "id": "HNvh6f3gnZTN",
        "colab_type": "code",
        "colab": {}
      },
      "source": [
        "# https://gist.github.com/greydanus/f6eee59eaf1d90fcb3b534a25362cea4\n",
        "# https://stackoverflow.com/a/14434334\n",
        "# this function is used to update the plots for each epoch and error\n",
        "def plt_dynamic(x, vy, ty, ax, colors=['b']):\n",
        "    ax.plot(x, vy, 'b', label=\"Validation accuracy\")\n",
        "    ax.plot(x, ty, 'r', label=\"Train accuracy\")\n",
        "    plt.legend()\n",
        "    plt.grid()\n",
        "    fig.canvas.draw()"
      ],
      "execution_count": 0,
      "outputs": []
    },
    {
      "cell_type": "code",
      "metadata": {
        "id": "KEbI7LF2bQPE",
        "colab_type": "code",
        "outputId": "6a34b2af-9328-44dc-af67-9b1847f65c3f",
        "colab": {
          "base_uri": "https://localhost:8080/",
          "height": 1003
        }
      },
      "source": [
        "(train_data,train_labels),(test_data,test_labels) = mnist.load_data()\n",
        "print(train_data[0])"
      ],
      "execution_count": 0,
      "outputs": [
        {
          "output_type": "stream",
          "text": [
            "Downloading data from https://s3.amazonaws.com/img-datasets/mnist.npz\n",
            "11493376/11490434 [==============================] - 1s 0us/step\n",
            "[[  0   0   0   0   0   0   0   0   0   0   0   0   0   0   0   0   0   0\n",
            "    0   0   0   0   0   0   0   0   0   0]\n",
            " [  0   0   0   0   0   0   0   0   0   0   0   0   0   0   0   0   0   0\n",
            "    0   0   0   0   0   0   0   0   0   0]\n",
            " [  0   0   0   0   0   0   0   0   0   0   0   0   0   0   0   0   0   0\n",
            "    0   0   0   0   0   0   0   0   0   0]\n",
            " [  0   0   0   0   0   0   0   0   0   0   0   0   0   0   0   0   0   0\n",
            "    0   0   0   0   0   0   0   0   0   0]\n",
            " [  0   0   0   0   0   0   0   0   0   0   0   0   0   0   0   0   0   0\n",
            "    0   0   0   0   0   0   0   0   0   0]\n",
            " [  0   0   0   0   0   0   0   0   0   0   0   0   3  18  18  18 126 136\n",
            "  175  26 166 255 247 127   0   0   0   0]\n",
            " [  0   0   0   0   0   0   0   0  30  36  94 154 170 253 253 253 253 253\n",
            "  225 172 253 242 195  64   0   0   0   0]\n",
            " [  0   0   0   0   0   0   0  49 238 253 253 253 253 253 253 253 253 251\n",
            "   93  82  82  56  39   0   0   0   0   0]\n",
            " [  0   0   0   0   0   0   0  18 219 253 253 253 253 253 198 182 247 241\n",
            "    0   0   0   0   0   0   0   0   0   0]\n",
            " [  0   0   0   0   0   0   0   0  80 156 107 253 253 205  11   0  43 154\n",
            "    0   0   0   0   0   0   0   0   0   0]\n",
            " [  0   0   0   0   0   0   0   0   0  14   1 154 253  90   0   0   0   0\n",
            "    0   0   0   0   0   0   0   0   0   0]\n",
            " [  0   0   0   0   0   0   0   0   0   0   0 139 253 190   2   0   0   0\n",
            "    0   0   0   0   0   0   0   0   0   0]\n",
            " [  0   0   0   0   0   0   0   0   0   0   0  11 190 253  70   0   0   0\n",
            "    0   0   0   0   0   0   0   0   0   0]\n",
            " [  0   0   0   0   0   0   0   0   0   0   0   0  35 241 225 160 108   1\n",
            "    0   0   0   0   0   0   0   0   0   0]\n",
            " [  0   0   0   0   0   0   0   0   0   0   0   0   0  81 240 253 253 119\n",
            "   25   0   0   0   0   0   0   0   0   0]\n",
            " [  0   0   0   0   0   0   0   0   0   0   0   0   0   0  45 186 253 253\n",
            "  150  27   0   0   0   0   0   0   0   0]\n",
            " [  0   0   0   0   0   0   0   0   0   0   0   0   0   0   0  16  93 252\n",
            "  253 187   0   0   0   0   0   0   0   0]\n",
            " [  0   0   0   0   0   0   0   0   0   0   0   0   0   0   0   0   0 249\n",
            "  253 249  64   0   0   0   0   0   0   0]\n",
            " [  0   0   0   0   0   0   0   0   0   0   0   0   0   0  46 130 183 253\n",
            "  253 207   2   0   0   0   0   0   0   0]\n",
            " [  0   0   0   0   0   0   0   0   0   0   0   0  39 148 229 253 253 253\n",
            "  250 182   0   0   0   0   0   0   0   0]\n",
            " [  0   0   0   0   0   0   0   0   0   0  24 114 221 253 253 253 253 201\n",
            "   78   0   0   0   0   0   0   0   0   0]\n",
            " [  0   0   0   0   0   0   0   0  23  66 213 253 253 253 253 198  81   2\n",
            "    0   0   0   0   0   0   0   0   0   0]\n",
            " [  0   0   0   0   0   0  18 171 219 253 253 253 253 195  80   9   0   0\n",
            "    0   0   0   0   0   0   0   0   0   0]\n",
            " [  0   0   0   0  55 172 226 253 253 253 253 244 133  11   0   0   0   0\n",
            "    0   0   0   0   0   0   0   0   0   0]\n",
            " [  0   0   0   0 136 253 253 253 212 135 132  16   0   0   0   0   0   0\n",
            "    0   0   0   0   0   0   0   0   0   0]\n",
            " [  0   0   0   0   0   0   0   0   0   0   0   0   0   0   0   0   0   0\n",
            "    0   0   0   0   0   0   0   0   0   0]\n",
            " [  0   0   0   0   0   0   0   0   0   0   0   0   0   0   0   0   0   0\n",
            "    0   0   0   0   0   0   0   0   0   0]\n",
            " [  0   0   0   0   0   0   0   0   0   0   0   0   0   0   0   0   0   0\n",
            "    0   0   0   0   0   0   0   0   0   0]]\n"
          ],
          "name": "stdout"
        }
      ]
    },
    {
      "cell_type": "code",
      "metadata": {
        "id": "IbYqoVahbQUq",
        "colab_type": "code",
        "outputId": "0a08b34e-a271-4dad-af35-c38e6f4c26c2",
        "colab": {
          "base_uri": "https://localhost:8080/",
          "height": 2397
        }
      },
      "source": [
        "#normailizing all the inputs \n",
        "train_data = train_data/255.0\n",
        "test_data = test_data/255.0\n",
        "print(train_data[1])"
      ],
      "execution_count": 0,
      "outputs": [
        {
          "output_type": "stream",
          "text": [
            "[[0.         0.         0.         0.         0.         0.\n",
            "  0.         0.         0.         0.         0.         0.\n",
            "  0.         0.         0.         0.         0.         0.\n",
            "  0.         0.         0.         0.         0.         0.\n",
            "  0.         0.         0.         0.        ]\n",
            " [0.         0.         0.         0.         0.         0.\n",
            "  0.         0.         0.         0.         0.         0.\n",
            "  0.         0.         0.         0.         0.         0.\n",
            "  0.         0.         0.         0.         0.         0.\n",
            "  0.         0.         0.         0.        ]\n",
            " [0.         0.         0.         0.         0.         0.\n",
            "  0.         0.         0.         0.         0.         0.\n",
            "  0.         0.         0.         0.         0.         0.\n",
            "  0.         0.         0.         0.         0.         0.\n",
            "  0.         0.         0.         0.        ]\n",
            " [0.         0.         0.         0.         0.         0.\n",
            "  0.         0.         0.         0.         0.         0.\n",
            "  0.         0.         0.         0.         0.         0.\n",
            "  0.         0.         0.         0.         0.         0.\n",
            "  0.         0.         0.         0.        ]\n",
            " [0.         0.         0.         0.         0.         0.\n",
            "  0.         0.         0.         0.         0.         0.\n",
            "  0.         0.         0.         0.2        0.62352941 0.99215686\n",
            "  0.62352941 0.19607843 0.         0.         0.         0.\n",
            "  0.         0.         0.         0.        ]\n",
            " [0.         0.         0.         0.         0.         0.\n",
            "  0.         0.         0.         0.         0.         0.\n",
            "  0.         0.         0.18823529 0.93333333 0.98823529 0.98823529\n",
            "  0.98823529 0.92941176 0.         0.         0.         0.\n",
            "  0.         0.         0.         0.        ]\n",
            " [0.         0.         0.         0.         0.         0.\n",
            "  0.         0.         0.         0.         0.         0.\n",
            "  0.         0.21176471 0.89019608 0.99215686 0.98823529 0.9372549\n",
            "  0.91372549 0.98823529 0.22352941 0.02352941 0.         0.\n",
            "  0.         0.         0.         0.        ]\n",
            " [0.         0.         0.         0.         0.         0.\n",
            "  0.         0.         0.         0.         0.         0.03921569\n",
            "  0.23529412 0.87843137 0.98823529 0.99215686 0.98823529 0.79215686\n",
            "  0.32941176 0.98823529 0.99215686 0.47843137 0.         0.\n",
            "  0.         0.         0.         0.        ]\n",
            " [0.         0.         0.         0.         0.         0.\n",
            "  0.         0.         0.         0.         0.         0.63921569\n",
            "  0.98823529 0.98823529 0.98823529 0.99215686 0.98823529 0.98823529\n",
            "  0.37647059 0.74117647 0.99215686 0.65490196 0.         0.\n",
            "  0.         0.         0.         0.        ]\n",
            " [0.         0.         0.         0.         0.         0.\n",
            "  0.         0.         0.         0.         0.2        0.93333333\n",
            "  0.99215686 0.99215686 0.74509804 0.44705882 0.99215686 0.89411765\n",
            "  0.18431373 0.30980392 1.         0.65882353 0.         0.\n",
            "  0.         0.         0.         0.        ]\n",
            " [0.         0.         0.         0.         0.         0.\n",
            "  0.         0.         0.         0.18823529 0.93333333 0.98823529\n",
            "  0.98823529 0.70196078 0.04705882 0.29411765 0.4745098  0.08235294\n",
            "  0.         0.         0.99215686 0.95294118 0.19607843 0.\n",
            "  0.         0.         0.         0.        ]\n",
            " [0.         0.         0.         0.         0.         0.\n",
            "  0.         0.         0.14901961 0.64705882 0.99215686 0.91372549\n",
            "  0.81568627 0.32941176 0.         0.         0.         0.\n",
            "  0.         0.         0.99215686 0.98823529 0.64705882 0.\n",
            "  0.         0.         0.         0.        ]\n",
            " [0.         0.         0.         0.         0.         0.\n",
            "  0.         0.02745098 0.69803922 0.98823529 0.94117647 0.27843137\n",
            "  0.0745098  0.10980392 0.         0.         0.         0.\n",
            "  0.         0.         0.99215686 0.98823529 0.76470588 0.\n",
            "  0.         0.         0.         0.        ]\n",
            " [0.         0.         0.         0.         0.         0.\n",
            "  0.         0.22352941 0.98823529 0.98823529 0.24705882 0.\n",
            "  0.         0.         0.         0.         0.         0.\n",
            "  0.         0.         0.99215686 0.98823529 0.76470588 0.\n",
            "  0.         0.         0.         0.        ]\n",
            " [0.         0.         0.         0.         0.         0.\n",
            "  0.         0.77647059 0.99215686 0.74509804 0.         0.\n",
            "  0.         0.         0.         0.         0.         0.\n",
            "  0.         0.         1.         0.99215686 0.76862745 0.\n",
            "  0.         0.         0.         0.        ]\n",
            " [0.         0.         0.         0.         0.         0.\n",
            "  0.29803922 0.96470588 0.98823529 0.43921569 0.         0.\n",
            "  0.         0.         0.         0.         0.         0.\n",
            "  0.         0.         0.99215686 0.98823529 0.58039216 0.\n",
            "  0.         0.         0.         0.        ]\n",
            " [0.         0.         0.         0.         0.         0.\n",
            "  0.33333333 0.98823529 0.90196078 0.09803922 0.         0.\n",
            "  0.         0.         0.         0.         0.         0.\n",
            "  0.02745098 0.52941176 0.99215686 0.72941176 0.04705882 0.\n",
            "  0.         0.         0.         0.        ]\n",
            " [0.         0.         0.         0.         0.         0.\n",
            "  0.33333333 0.98823529 0.8745098  0.         0.         0.\n",
            "  0.         0.         0.         0.         0.         0.02745098\n",
            "  0.51372549 0.98823529 0.88235294 0.27843137 0.         0.\n",
            "  0.         0.         0.         0.        ]\n",
            " [0.         0.         0.         0.         0.         0.\n",
            "  0.33333333 0.98823529 0.56862745 0.         0.         0.\n",
            "  0.         0.         0.         0.         0.18823529 0.64705882\n",
            "  0.98823529 0.67843137 0.         0.         0.         0.\n",
            "  0.         0.         0.         0.        ]\n",
            " [0.         0.         0.         0.         0.         0.\n",
            "  0.3372549  0.99215686 0.88235294 0.         0.         0.\n",
            "  0.         0.         0.         0.44705882 0.93333333 0.99215686\n",
            "  0.63529412 0.         0.         0.         0.         0.\n",
            "  0.         0.         0.         0.        ]\n",
            " [0.         0.         0.         0.         0.         0.\n",
            "  0.33333333 0.98823529 0.97647059 0.57254902 0.18823529 0.11372549\n",
            "  0.33333333 0.69803922 0.88235294 0.99215686 0.8745098  0.65490196\n",
            "  0.21960784 0.         0.         0.         0.         0.\n",
            "  0.         0.         0.         0.        ]\n",
            " [0.         0.         0.         0.         0.         0.\n",
            "  0.33333333 0.98823529 0.98823529 0.98823529 0.89803922 0.84313725\n",
            "  0.98823529 0.98823529 0.98823529 0.76862745 0.50980392 0.\n",
            "  0.         0.         0.         0.         0.         0.\n",
            "  0.         0.         0.         0.        ]\n",
            " [0.         0.         0.         0.         0.         0.\n",
            "  0.10980392 0.78039216 0.98823529 0.98823529 0.99215686 0.98823529\n",
            "  0.98823529 0.91372549 0.56862745 0.         0.         0.\n",
            "  0.         0.         0.         0.         0.         0.\n",
            "  0.         0.         0.         0.        ]\n",
            " [0.         0.         0.         0.         0.         0.\n",
            "  0.         0.09803922 0.50196078 0.98823529 0.99215686 0.98823529\n",
            "  0.55294118 0.14509804 0.         0.         0.         0.\n",
            "  0.         0.         0.         0.         0.         0.\n",
            "  0.         0.         0.         0.        ]\n",
            " [0.         0.         0.         0.         0.         0.\n",
            "  0.         0.         0.         0.         0.         0.\n",
            "  0.         0.         0.         0.         0.         0.\n",
            "  0.         0.         0.         0.         0.         0.\n",
            "  0.         0.         0.         0.        ]\n",
            " [0.         0.         0.         0.         0.         0.\n",
            "  0.         0.         0.         0.         0.         0.\n",
            "  0.         0.         0.         0.         0.         0.\n",
            "  0.         0.         0.         0.         0.         0.\n",
            "  0.         0.         0.         0.        ]\n",
            " [0.         0.         0.         0.         0.         0.\n",
            "  0.         0.         0.         0.         0.         0.\n",
            "  0.         0.         0.         0.         0.         0.\n",
            "  0.         0.         0.         0.         0.         0.\n",
            "  0.         0.         0.         0.        ]\n",
            " [0.         0.         0.         0.         0.         0.\n",
            "  0.         0.         0.         0.         0.         0.\n",
            "  0.         0.         0.         0.         0.         0.\n",
            "  0.         0.         0.         0.         0.         0.\n",
            "  0.         0.         0.         0.        ]]\n"
          ],
          "name": "stdout"
        }
      ]
    },
    {
      "cell_type": "code",
      "metadata": {
        "id": "X_qEyjKydKBX",
        "colab_type": "code",
        "outputId": "b020c23b-3f9e-422e-df22-f834d8692c03",
        "colab": {
          "base_uri": "https://localhost:8080/",
          "height": 68
        }
      },
      "source": [
        "print(train_labels[5])\n",
        "print(\"*\"*100)\n",
        "#converting numeric labels into onehot encoding \n",
        "train_labels_onehot = np_utils.to_categorical(train_labels)\n",
        "test_labels_onehot= np_utils.to_categorical(test_labels)\n",
        "print(\"One-hot encoding of the y labels: \",train_labels_onehot[5])"
      ],
      "execution_count": 0,
      "outputs": [
        {
          "output_type": "stream",
          "text": [
            "2\n",
            "****************************************************************************************************\n",
            "One-hot encoding of the y labels:  [0. 0. 1. 0. 0. 0. 0. 0. 0. 0.]\n"
          ],
          "name": "stdout"
        }
      ]
    },
    {
      "cell_type": "code",
      "metadata": {
        "id": "y7dM6eGxbQXa",
        "colab_type": "code",
        "outputId": "0c0fc96e-9ae9-4301-a985-bf3d1479f0c3",
        "colab": {
          "base_uri": "https://localhost:8080/",
          "height": 289
        }
      },
      "source": [
        "# Model_1: 728-512-64-10 without BN and dropout and random initizliation of weights\n",
        "#https://www.youtube.com/watch?v=6g4O5UOH304&t=3761s\n",
        "model = keras.models.Sequential([\n",
        "        keras.layers.Flatten(input_shape=(28,28)),\n",
        "        keras.layers.Dense(512,activation=\"sigmoid\"),\n",
        "        keras.layers.Dense(64,activation=\"sigmoid\"),\n",
        "        keras.layers.Dense(10,activation=\"softmax\")\n",
        "]) #skeleton of the model is ready\n",
        "model.summary()\n"
      ],
      "execution_count": 0,
      "outputs": [
        {
          "output_type": "stream",
          "text": [
            "Model: \"sequential_3\"\n",
            "_________________________________________________________________\n",
            "Layer (type)                 Output Shape              Param #   \n",
            "=================================================================\n",
            "flatten_3 (Flatten)          (None, 784)               0         \n",
            "_________________________________________________________________\n",
            "dense_11 (Dense)             (None, 512)               401920    \n",
            "_________________________________________________________________\n",
            "dense_12 (Dense)             (None, 64)                32832     \n",
            "_________________________________________________________________\n",
            "dense_13 (Dense)             (None, 10)                650       \n",
            "=================================================================\n",
            "Total params: 435,402\n",
            "Trainable params: 435,402\n",
            "Non-trainable params: 0\n",
            "_________________________________________________________________\n"
          ],
          "name": "stdout"
        }
      ]
    },
    {
      "cell_type": "code",
      "metadata": {
        "id": "s3cOAOyimcuu",
        "colab_type": "code",
        "outputId": "803fa9af-8619-4d42-8750-2cfb6e9f03d6",
        "colab": {
          "base_uri": "https://localhost:8080/",
          "height": 374
        }
      },
      "source": [
        "model.compile(optimizer= \"adam\",loss=\"categorical_crossentropy\",metrics=[\"accuracy\"])\n",
        "history = model.fit(train_data,train_labels_onehot,epochs=10,batch_size=64,shuffle=True,validation_split=0.3,validation_data=(test_data,test_labels_onehot))"
      ],
      "execution_count": 0,
      "outputs": [
        {
          "output_type": "stream",
          "text": [
            "Train on 60000 samples, validate on 10000 samples\n",
            "Epoch 1/10\n",
            "60000/60000 [==============================] - 5s 89us/sample - loss: 0.4656 - acc: 0.8809 - val_loss: 0.2267 - val_acc: 0.9343\n",
            "Epoch 2/10\n",
            "60000/60000 [==============================] - 5s 84us/sample - loss: 0.1905 - acc: 0.9445 - val_loss: 0.1609 - val_acc: 0.9522\n",
            "Epoch 3/10\n",
            "60000/60000 [==============================] - 5s 86us/sample - loss: 0.1315 - acc: 0.9619 - val_loss: 0.1266 - val_acc: 0.9623\n",
            "Epoch 4/10\n",
            "60000/60000 [==============================] - 5s 87us/sample - loss: 0.0956 - acc: 0.9721 - val_loss: 0.1124 - val_acc: 0.9638\n",
            "Epoch 5/10\n",
            "60000/60000 [==============================] - 5s 82us/sample - loss: 0.0718 - acc: 0.9790 - val_loss: 0.0870 - val_acc: 0.9750\n",
            "Epoch 6/10\n",
            "60000/60000 [==============================] - 5s 83us/sample - loss: 0.0546 - acc: 0.9838 - val_loss: 0.0768 - val_acc: 0.9762\n",
            "Epoch 7/10\n",
            "60000/60000 [==============================] - 5s 81us/sample - loss: 0.0424 - acc: 0.9876 - val_loss: 0.0694 - val_acc: 0.9790\n",
            "Epoch 8/10\n",
            "60000/60000 [==============================] - 5s 84us/sample - loss: 0.0331 - acc: 0.9901 - val_loss: 0.0694 - val_acc: 0.9797\n",
            "Epoch 9/10\n",
            "60000/60000 [==============================] - 5s 85us/sample - loss: 0.0248 - acc: 0.9928 - val_loss: 0.0651 - val_acc: 0.9801\n",
            "Epoch 10/10\n",
            "60000/60000 [==============================] - 5s 82us/sample - loss: 0.0197 - acc: 0.9948 - val_loss: 0.0678 - val_acc: 0.9807\n"
          ],
          "name": "stdout"
        }
      ]
    },
    {
      "cell_type": "code",
      "metadata": {
        "id": "6Crc6yykg0WM",
        "colab_type": "code",
        "outputId": "f10c4955-6886-4855-ac18-c387f454300d",
        "colab": {
          "base_uri": "https://localhost:8080/",
          "height": 313
        }
      },
      "source": [
        "print(history.history.keys())\n",
        "print(\"*\"*100)\n",
        "#https://colab.research.google.com/drive/1PMyn9bgjDzhaBm2NO3YQ1f0m-Y2SmZe4#scrollTo=AslSnqQ2QKcF\n",
        "fig,ax = plt.subplots(1,1)\n",
        "ax.set_xlabel('epoch') ; ax.set_ylabel('Categorical Crossentropy Loss')\n",
        "# list of epoch numbers\n",
        "x = list(range(1,11))\n",
        "vy = history.history['val_loss']\n",
        "ty = history.history['loss']\n",
        "plt_dynamic(x, vy, ty, ax)"
      ],
      "execution_count": 0,
      "outputs": [
        {
          "output_type": "stream",
          "text": [
            "dict_keys(['loss', 'acc', 'val_loss', 'val_acc'])\n",
            "****************************************************************************************************\n"
          ],
          "name": "stdout"
        },
        {
          "output_type": "display_data",
          "data": {
            "image/png": "[encoded data removed]",
            "text/plain": [
              "<Figure size 432x288 with 1 Axes>"
            ]
          },
          "metadata": {
            "tags": []
          }
        }
      ]
    },
    {
      "cell_type": "code",
      "metadata": {
        "id": "alA4XUyjenIj",
        "colab_type": "code",
        "outputId": "cd0249a4-a694-431e-d02a-71a670b997e9",
        "colab": {
          "base_uri": "https://localhost:8080/",
          "height": 493
        }
      },
      "source": [
        "# Model_2: 728-512-64-32-10 with BN and dropout(p=0.2) with glorot init\n",
        "#https://machinelearningmastery.com/how-to-accelerate-learning-of-deep-neural-networks-with-batch-normalization/\n",
        "#https://chrisalbon.com/deep_learning/keras/adding_dropout/\n",
        "model = keras.models.Sequential([\n",
        "        keras.layers.Flatten(input_shape=(28,28)),\n",
        "        keras.layers.Dropout(0.2),\n",
        "        keras.layers.Dense(512,activation=\"hard_sigmoid\",kernel_initializer=\"glorot_normal\"),#https://keras.io/initializers/\n",
        "        keras.layers.Dropout(0.2),\n",
        "        keras.layers.BatchNormalization(),\n",
        "        keras.layers.Dense(64,activation=\"hard_sigmoid\",kernel_initializer=\"glorot_normal\"),\n",
        "        keras.layers.Dropout(0.2),\n",
        "        keras.layers.Dense(32,activation=\"hard_sigmoid\",kernel_initializer=\"glorot_normal\"),\n",
        "        keras.layers.Dropout(0.2),\n",
        "        keras.layers.Dense(10,activation=\"softmax\")\n",
        "]) #skeleton of the model is ready\n",
        "\n",
        "model.summary()"
      ],
      "execution_count": 0,
      "outputs": [
        {
          "output_type": "stream",
          "text": [
            "Model: \"sequential_4\"\n",
            "_________________________________________________________________\n",
            "Layer (type)                 Output Shape              Param #   \n",
            "=================================================================\n",
            "flatten_4 (Flatten)          (None, 784)               0         \n",
            "_________________________________________________________________\n",
            "dropout_8 (Dropout)          (None, 784)               0         \n",
            "_________________________________________________________________\n",
            "dense_14 (Dense)             (None, 512)               401920    \n",
            "_________________________________________________________________\n",
            "dropout_9 (Dropout)          (None, 512)               0         \n",
            "_________________________________________________________________\n",
            "batch_normalization_2 (Batch (None, 512)               2048      \n",
            "_________________________________________________________________\n",
            "dense_15 (Dense)             (None, 64)                32832     \n",
            "_________________________________________________________________\n",
            "dropout_10 (Dropout)         (None, 64)                0         \n",
            "_________________________________________________________________\n",
            "dense_16 (Dense)             (None, 32)                2080      \n",
            "_________________________________________________________________\n",
            "dropout_11 (Dropout)         (None, 32)                0         \n",
            "_________________________________________________________________\n",
            "dense_17 (Dense)             (None, 10)                330       \n",
            "=================================================================\n",
            "Total params: 439,210\n",
            "Trainable params: 438,186\n",
            "Non-trainable params: 1,024\n",
            "_________________________________________________________________\n"
          ],
          "name": "stdout"
        }
      ]
    },
    {
      "cell_type": "code",
      "metadata": {
        "id": "m2QO_iz-l4fN",
        "colab_type": "code",
        "outputId": "d4b38563-dc16-47ac-a621-1bd5817a7c27",
        "colab": {
          "base_uri": "https://localhost:8080/",
          "height": 411
        }
      },
      "source": [
        "model.compile(optimizer= \"adam\",loss=\"categorical_crossentropy\",metrics=[\"accuracy\"])\n",
        "history = model.fit(train_data,train_labels_onehot,epochs=10,batch_size=64,shuffle=True,validation_split=0.3,validation_data=(test_data,test_labels_onehot))"
      ],
      "execution_count": 0,
      "outputs": [
        {
          "output_type": "stream",
          "text": [
            "WARNING:tensorflow:From /usr/local/lib/python3.6/dist-packages/tensorflow_core/python/ops/math_grad.py:1424: where (from tensorflow.python.ops.array_ops) is deprecated and will be removed in a future version.\n",
            "Instructions for updating:\n",
            "Use tf.where in 2.0, which has the same broadcast rule as np.where\n",
            "Train on 60000 samples, validate on 10000 samples\n",
            "Epoch 1/10\n",
            "60000/60000 [==============================] - 9s 144us/sample - loss: 0.7594 - acc: 0.8156 - val_loss: 0.2028 - val_acc: 0.9477\n",
            "Epoch 2/10\n",
            "60000/60000 [==============================] - 8s 134us/sample - loss: 0.2686 - acc: 0.9338 - val_loss: 0.1305 - val_acc: 0.9649\n",
            "Epoch 3/10\n",
            "60000/60000 [==============================] - 8s 139us/sample - loss: 0.2009 - acc: 0.9473 - val_loss: 0.1071 - val_acc: 0.9701\n",
            "Epoch 4/10\n",
            "60000/60000 [==============================] - 8s 134us/sample - loss: 0.1479 - acc: 0.9608 - val_loss: 0.0830 - val_acc: 0.9769\n",
            "Epoch 6/10\n",
            "60000/60000 [==============================] - 8s 135us/sample - loss: 0.1342 - acc: 0.9638 - val_loss: 0.0818 - val_acc: 0.9774\n",
            "Epoch 7/10\n",
            "60000/60000 [==============================] - 8s 133us/sample - loss: 0.1238 - acc: 0.9653 - val_loss: 0.0785 - val_acc: 0.9780\n",
            "Epoch 8/10\n",
            "60000/60000 [==============================] - 8s 137us/sample - loss: 0.1153 - acc: 0.9678 - val_loss: 0.0752 - val_acc: 0.9783\n",
            "Epoch 9/10\n",
            "60000/60000 [==============================] - 8s 133us/sample - loss: 0.1067 - acc: 0.9705 - val_loss: 0.0751 - val_acc: 0.9787\n",
            "Epoch 10/10\n",
            "60000/60000 [==============================] - 8s 137us/sample - loss: 0.1012 - acc: 0.9712 - val_loss: 0.0743 - val_acc: 0.9796\n"
          ],
          "name": "stdout"
        }
      ]
    },
    {
      "cell_type": "code",
      "metadata": {
        "id": "AIP9_YqtnWOA",
        "colab_type": "code",
        "outputId": "71d50043-bfd7-4ef8-89d0-3f2ff566df93",
        "colab": {
          "base_uri": "https://localhost:8080/",
          "height": 313
        }
      },
      "source": [
        "print(history.history.keys())\n",
        "print(\"*\"*80)\n",
        "#https://colab.research.google.com/drive/1PMyn9bgjDzhaBm2NO3YQ1f0m-Y2SmZe4#scrollTo=AslSnqQ2QKcF\n",
        "fig,ax = plt.subplots(1,1)\n",
        "ax.set_xlabel('epoch') ; ax.set_ylabel('Categorical Crossentropy Loss')\n",
        "# list of epoch numbers\n",
        "x = list(range(1,11))\n",
        "vy = history.history['val_loss']\n",
        "ty = history.history['loss']\n",
        "plt_dynamic(x, vy, ty, ax)\n"
      ],
      "execution_count": 0,
      "outputs": [
        {
          "output_type": "stream",
          "text": [
            "dict_keys(['loss', 'acc', 'val_loss', 'val_acc'])\n",
            "********************************************************************************\n"
          ],
          "name": "stdout"
        },
        {
          "output_type": "display_data",
          "data": {
            "image/png": "[encoded data removed]",
            "text/plain": [
              "<Figure size 432x288 with 1 Axes>"
            ]
          },
          "metadata": {
            "tags": []
          }
        }
      ]
    },
    {
      "cell_type": "code",
      "metadata": {
        "id": "1Ga6Y2RXO9Gm",
        "colab_type": "code",
        "outputId": "c5bc777a-7f9d-438a-cbc4-27f3e4cad7d8",
        "colab": {
          "base_uri": "https://localhost:8080/",
          "height": 493
        }
      },
      "source": [
        "# Model_3: 728-512-64-32-10 with BN and dropout(p=0.2) with glorot init\n",
        "#https://machinelearningmastery.com/how-to-accelerate-learning-of-deep-neural-networks-with-batch-normalization/\n",
        "#https://chrisalbon.com/deep_learning/keras/adding_dropout/\n",
        "model = keras.models.Sequential([\n",
        "        keras.layers.Flatten(input_shape=(28,28)),\n",
        "        keras.layers.Dropout(0.2),\n",
        "        keras.layers.Dense(512,activation=\"tanh\",kernel_initializer=\"glorot_normal\"),#https://keras.io/initializers/\n",
        "        keras.layers.Dropout(0.2),\n",
        "        keras.layers.BatchNormalization(),\n",
        "        keras.layers.Dense(64,activation=\"tanh\",kernel_initializer=\"glorot_normal\"),\n",
        "        keras.layers.Dropout(0.2),\n",
        "        keras.layers.Dense(32,activation=\"tanh\",kernel_initializer=\"glorot_normal\"),\n",
        "        keras.layers.Dropout(0.2),\n",
        "        keras.layers.Dense(10,activation=\"softmax\")\n",
        "]) #skeleton of the model is ready\n",
        "\n",
        "model.summary()"
      ],
      "execution_count": 0,
      "outputs": [
        {
          "output_type": "stream",
          "text": [
            "Model: \"sequential_2\"\n",
            "_________________________________________________________________\n",
            "Layer (type)                 Output Shape              Param #   \n",
            "=================================================================\n",
            "flatten_2 (Flatten)          (None, 784)               0         \n",
            "_________________________________________________________________\n",
            "dropout_4 (Dropout)          (None, 784)               0         \n",
            "_________________________________________________________________\n",
            "dense_7 (Dense)              (None, 512)               401920    \n",
            "_________________________________________________________________\n",
            "dropout_5 (Dropout)          (None, 512)               0         \n",
            "_________________________________________________________________\n",
            "batch_normalization_1 (Batch (None, 512)               2048      \n",
            "_________________________________________________________________\n",
            "dense_8 (Dense)              (None, 64)                32832     \n",
            "_________________________________________________________________\n",
            "dropout_6 (Dropout)          (None, 64)                0         \n",
            "_________________________________________________________________\n",
            "dense_9 (Dense)              (None, 32)                2080      \n",
            "_________________________________________________________________\n",
            "dropout_7 (Dropout)          (None, 32)                0         \n",
            "_________________________________________________________________\n",
            "dense_10 (Dense)             (None, 10)                330       \n",
            "=================================================================\n",
            "Total params: 439,210\n",
            "Trainable params: 438,186\n",
            "Non-trainable params: 1,024\n",
            "_________________________________________________________________\n"
          ],
          "name": "stdout"
        }
      ]
    },
    {
      "cell_type": "code",
      "metadata": {
        "id": "jYu5bG7ZPTdA",
        "colab_type": "code",
        "outputId": "36ec68c8-16b9-413b-d570-b5d89091713b",
        "colab": {
          "base_uri": "https://localhost:8080/",
          "height": 674
        }
      },
      "source": [
        "model.compile(optimizer= \"adam\",loss=\"categorical_crossentropy\",metrics=[\"accuracy\"])\n",
        "history = model.fit(train_data,train_labels_onehot,epochs=10,batch_size=64,shuffle=True,validation_split=0.3,validation_data=(test_data,test_labels_onehot))\n",
        "\n",
        "print(history.history.keys())\n",
        "print(\"*\"*80)\n",
        "#https://colab.research.google.com/drive/1PMyn9bgjDzhaBm2NO3YQ1f0m-Y2SmZe4#scrollTo=AslSnqQ2QKcF\n",
        "fig,ax = plt.subplots(1,1)\n",
        "ax.set_xlabel('epoch') ; ax.set_ylabel('Categorical Crossentropy Loss')\n",
        "# list of epoch numbers\n",
        "x = list(range(1,11))\n",
        "vy = history.history['val_loss']\n",
        "ty = history.history['loss']\n",
        "plt_dynamic(x, vy, ty, ax)\n"
      ],
      "execution_count": 0,
      "outputs": [
        {
          "output_type": "stream",
          "text": [
            "Train on 60000 samples, validate on 10000 samples\n",
            "Epoch 1/10\n",
            "60000/60000 [==============================] - 8s 129us/sample - loss: 0.4812 - acc: 0.8613 - val_loss: 0.2208 - val_acc: 0.9364\n",
            "Epoch 2/10\n",
            "60000/60000 [==============================] - 8s 126us/sample - loss: 0.2877 - acc: 0.9159 - val_loss: 0.1570 - val_acc: 0.9532\n",
            "Epoch 3/10\n",
            "60000/60000 [==============================] - 8s 130us/sample - loss: 0.2296 - acc: 0.9330 - val_loss: 0.1289 - val_acc: 0.9633\n",
            "Epoch 4/10\n",
            "60000/60000 [==============================] - 8s 126us/sample - loss: 0.2015 - acc: 0.9404 - val_loss: 0.1183 - val_acc: 0.9664\n",
            "Epoch 5/10\n",
            "60000/60000 [==============================] - 7s 123us/sample - loss: 0.1765 - acc: 0.9480 - val_loss: 0.1044 - val_acc: 0.9715\n",
            "Epoch 6/10\n",
            "60000/60000 [==============================] - 8s 127us/sample - loss: 0.1621 - acc: 0.9528 - val_loss: 0.1009 - val_acc: 0.9704\n",
            "Epoch 7/10\n",
            "60000/60000 [==============================] - 8s 129us/sample - loss: 0.1462 - acc: 0.9571 - val_loss: 0.0842 - val_acc: 0.9751\n",
            "Epoch 8/10\n",
            "60000/60000 [==============================] - 8s 126us/sample - loss: 0.1385 - acc: 0.9603 - val_loss: 0.0825 - val_acc: 0.9751\n",
            "Epoch 9/10\n",
            "60000/60000 [==============================] - 7s 124us/sample - loss: 0.1330 - acc: 0.9606 - val_loss: 0.0762 - val_acc: 0.9781\n",
            "Epoch 10/10\n",
            "60000/60000 [==============================] - 8s 133us/sample - loss: 0.1247 - acc: 0.9633 - val_loss: 0.0791 - val_acc: 0.9764\n",
            "dict_keys(['loss', 'acc', 'val_loss', 'val_acc'])\n",
            "********************************************************************************\n"
          ],
          "name": "stdout"
        },
        {
          "output_type": "display_data",
          "data": {
            "image/png": "[encoded data removed]",
            "text/plain": [
              "<Figure size 432x288 with 1 Axes>"
            ]
          },
          "metadata": {
            "tags": []
          }
        }
      ]
    },
    {
      "cell_type": "code",
      "metadata": {
        "id": "sWsTKjJjl4iR",
        "colab_type": "code",
        "outputId": "dc181527-d6ea-43fd-e70e-7c7bd3d188be",
        "colab": {
          "base_uri": "https://localhost:8080/",
          "height": 595
        }
      },
      "source": [
        "# Model_4: 728-480-120-64-32-10 with BN and dropout(p=0.2) with glorot init\n",
        "#https://machinelearningmastery.com/how-to-accelerate-learning-of-deep-neural-networks-with-batch-normalization/\n",
        "#https://chrisalbon.com/deep_learning/keras/adding_dropout/\n",
        "model = keras.models.Sequential([\n",
        "        keras.layers.Flatten(input_shape=(28,28)),\n",
        "        keras.layers.Dropout(0.2),\n",
        "        keras.layers.Dense(480,activation=\"relu\",kernel_initializer=\"glorot_normal\"),#https://keras.io/initializers/\n",
        "        keras.layers.Dropout(0.2),\n",
        "        keras.layers.BatchNormalization(), #BN\n",
        "        keras.layers.Dense(120,activation=\"relu\",kernel_initializer=\"glorot_normal\"),\n",
        "        keras.layers.Dropout(0.2),\n",
        "        keras.layers.Dense(64,activation=\"relu\",kernel_initializer=\"glorot_normal\"),\n",
        "        keras.layers.Dropout(0.2),\n",
        "        keras.layers.BatchNormalization(), #BN\n",
        "        keras.layers.Dense(32,activation=\"relu\",kernel_initializer=\"glorot_normal\"),\n",
        "        keras.layers.Dropout(0.2),\n",
        "        keras.layers.Dense(10,activation=\"softmax\")\n",
        "]) #skeleton of the model is ready\n",
        "\n",
        "model.summary()"
      ],
      "execution_count": 0,
      "outputs": [
        {
          "output_type": "stream",
          "text": [
            "Model: \"sequential_15\"\n",
            "_________________________________________________________________\n",
            "Layer (type)                 Output Shape              Param #   \n",
            "=================================================================\n",
            "flatten_15 (Flatten)         (None, 784)               0         \n",
            "_________________________________________________________________\n",
            "dropout_19 (Dropout)         (None, 784)               0         \n",
            "_________________________________________________________________\n",
            "dense_46 (Dense)             (None, 480)               376800    \n",
            "_________________________________________________________________\n",
            "dropout_20 (Dropout)         (None, 480)               0         \n",
            "_________________________________________________________________\n",
            "batch_normalization_9 (Batch (None, 480)               1920      \n",
            "_________________________________________________________________\n",
            "dense_47 (Dense)             (None, 120)               57720     \n",
            "_________________________________________________________________\n",
            "dropout_21 (Dropout)         (None, 120)               0         \n",
            "_________________________________________________________________\n",
            "dense_48 (Dense)             (None, 64)                7744      \n",
            "_________________________________________________________________\n",
            "dropout_22 (Dropout)         (None, 64)                0         \n",
            "_________________________________________________________________\n",
            "batch_normalization_10 (Batc (None, 64)                256       \n",
            "_________________________________________________________________\n",
            "dense_49 (Dense)             (None, 32)                2080      \n",
            "_________________________________________________________________\n",
            "dropout_23 (Dropout)         (None, 32)                0         \n",
            "_________________________________________________________________\n",
            "dense_50 (Dense)             (None, 10)                330       \n",
            "=================================================================\n",
            "Total params: 446,850\n",
            "Trainable params: 445,762\n",
            "Non-trainable params: 1,088\n",
            "_________________________________________________________________\n"
          ],
          "name": "stdout"
        }
      ]
    },
    {
      "cell_type": "code",
      "metadata": {
        "id": "1HDyPXLRl4nH",
        "colab_type": "code",
        "outputId": "9686b54c-9341-401f-e0dc-d3f02f6ef3e5",
        "colab": {
          "base_uri": "https://localhost:8080/",
          "height": 374
        }
      },
      "source": [
        "model.compile(optimizer= \"adam\",loss=\"categorical_crossentropy\",metrics=[\"accuracy\"])\n",
        "history = model.fit(train_data,train_labels_onehot,epochs=10,batch_size=64,shuffle=True,validation_split=0.3,validation_data=(test_data,test_labels_onehot))"
      ],
      "execution_count": 0,
      "outputs": [
        {
          "output_type": "stream",
          "text": [
            "Train on 60000 samples, validate on 10000 samples\n",
            "Epoch 1/10\n",
            "60000/60000 [==============================] - 19s 316us/step - loss: 0.5305 - acc: 0.8425 - val_loss: 0.1366 - val_acc: 0.9598\n",
            "Epoch 2/10\n",
            "60000/60000 [==============================] - 15s 256us/step - loss: 0.2534 - acc: 0.9306 - val_loss: 0.1108 - val_acc: 0.9669\n",
            "Epoch 3/10\n",
            "60000/60000 [==============================] - 15s 257us/step - loss: 0.1994 - acc: 0.9443 - val_loss: 0.1155 - val_acc: 0.9664\n",
            "Epoch 4/10\n",
            "60000/60000 [==============================] - 15s 253us/step - loss: 0.1721 - acc: 0.9525 - val_loss: 0.0849 - val_acc: 0.9742\n",
            "Epoch 5/10\n",
            "60000/60000 [==============================] - 15s 257us/step - loss: 0.1586 - acc: 0.9562 - val_loss: 0.0750 - val_acc: 0.9782\n",
            "Epoch 6/10\n",
            "60000/60000 [==============================] - 14s 236us/step - loss: 0.1455 - acc: 0.9600 - val_loss: 0.0677 - val_acc: 0.9796\n",
            "Epoch 7/10\n",
            "60000/60000 [==============================] - 14s 236us/step - loss: 0.1346 - acc: 0.9626 - val_loss: 0.0745 - val_acc: 0.9786\n",
            "Epoch 8/10\n",
            "60000/60000 [==============================] - 14s 238us/step - loss: 0.1270 - acc: 0.9648 - val_loss: 0.0655 - val_acc: 0.9808\n",
            "Epoch 9/10\n",
            "60000/60000 [==============================] - 14s 240us/step - loss: 0.1217 - acc: 0.9667 - val_loss: 0.0676 - val_acc: 0.9802\n",
            "Epoch 10/10\n",
            "60000/60000 [==============================] - 14s 237us/step - loss: 0.1130 - acc: 0.9685 - val_loss: 0.0576 - val_acc: 0.9840\n"
          ],
          "name": "stdout"
        }
      ]
    },
    {
      "cell_type": "code",
      "metadata": {
        "id": "dNKHaXl6trsh",
        "colab_type": "code",
        "outputId": "13733432-3fa7-44da-e53e-94858e0957d0",
        "colab": {
          "base_uri": "https://localhost:8080/",
          "height": 313
        }
      },
      "source": [
        "print(history.history.keys())\n",
        "print(\"*\"*80)\n",
        "#https://colab.research.google.com/drive/1PMyn9bgjDzhaBm2NO3YQ1f0m-Y2SmZe4#scrollTo=AslSnqQ2QKcF\n",
        "#Plotting the graph.\n",
        "fig,ax = plt.subplots(1,1)\n",
        "ax.set_xlabel('epoch') ; ax.set_ylabel('Categorical Crossentropy Loss')\n",
        "# list of epoch numbers\n",
        "x = list(range(1,11))\n",
        "vy = history.history['val_loss']\n",
        "ty = history.history['loss']\n",
        "plt_dynamic(x, vy, ty, ax)\n"
      ],
      "execution_count": 0,
      "outputs": [
        {
          "output_type": "stream",
          "text": [
            "dict_keys(['val_loss', 'val_acc', 'loss', 'acc'])\n",
            "********************************************************************************\n"
          ],
          "name": "stdout"
        },
        {
          "output_type": "display_data",
          "data": {
            "image/png": "[encoded data removed]",
            "text/plain": [
              "<Figure size 432x288 with 1 Axes>"
            ]
          },
          "metadata": {
            "tags": []
          }
        }
      ]
    },
    {
      "cell_type": "code",
      "metadata": {
        "id": "gX-oVQCPvlq5",
        "colab_type": "code",
        "outputId": "df8bd1c3-b3f8-4292-983d-249153b2a5b4",
        "colab": {
          "base_uri": "https://localhost:8080/",
          "height": 884
        }
      },
      "source": [
        "# Model_5: 728-480-120-64-32-10 WITHOUT BN and dropout(p=0.5) with glorot init\n",
        "#https://machinelearningmastery.com/how-to-accelerate-learning-of-deep-neural-networks-with-batch-normalization/\n",
        "#https://chrisalbon.com/deep_learning/keras/adding_dropout/\n",
        "model = keras.models.Sequential([\n",
        "        keras.layers.Flatten(input_shape=(28,28)),\n",
        "        keras.layers.Dropout(0.5),          #DROPOUT\n",
        "        keras.layers.Dense(480,activation=\"selu\",kernel_initializer=\"glorot_normal\"),#https://keras.io/initializers/\n",
        "        keras.layers.Dropout(0.5),          #DROPOUT\n",
        "        #keras.layers.BatchNormalization(), #BN\n",
        "        keras.layers.Dense(120,activation=\"selu\",kernel_initializer=\"glorot_normal\"),\n",
        "        keras.layers.Dropout(0.5),          #DROPOUT\n",
        "        keras.layers.Dense(64,activation=\"selu\",kernel_initializer=\"glorot_normal\"),\n",
        "        keras.layers.Dropout(0.5),          #DROPOUT\n",
        "        #keras.layers.BatchNormalization(), #BN\n",
        "        keras.layers.Dense(32,activation=\"selu\",kernel_initializer=\"glorot_normal\"),\n",
        "        keras.layers.Dropout(0.5),          #DROPOUT\n",
        "        keras.layers.Dense(10,activation=\"softmax\")\n",
        "]) #skeleton of the model is ready\n",
        "model.summary()\n",
        "model.compile(optimizer= \"adam\",loss=\"categorical_crossentropy\",metrics=[\"accuracy\"])\n",
        "history = model.fit(train_data,train_labels_onehot,epochs=10,batch_size=64,shuffle=True,validation_split=0.3,validation_data=(test_data,test_labels_onehot))"
      ],
      "execution_count": 0,
      "outputs": [
        {
          "output_type": "stream",
          "text": [
            "Model: \"sequential_5\"\n",
            "_________________________________________________________________\n",
            "Layer (type)                 Output Shape              Param #   \n",
            "=================================================================\n",
            "flatten_5 (Flatten)          (None, 784)               0         \n",
            "_________________________________________________________________\n",
            "dropout_12 (Dropout)         (None, 784)               0         \n",
            "_________________________________________________________________\n",
            "dense_18 (Dense)             (None, 480)               376800    \n",
            "_________________________________________________________________\n",
            "dropout_13 (Dropout)         (None, 480)               0         \n",
            "_________________________________________________________________\n",
            "dense_19 (Dense)             (None, 120)               57720     \n",
            "_________________________________________________________________\n",
            "dropout_14 (Dropout)         (None, 120)               0         \n",
            "_________________________________________________________________\n",
            "dense_20 (Dense)             (None, 64)                7744      \n",
            "_________________________________________________________________\n",
            "dropout_15 (Dropout)         (None, 64)                0         \n",
            "_________________________________________________________________\n",
            "dense_21 (Dense)             (None, 32)                2080      \n",
            "_________________________________________________________________\n",
            "dropout_16 (Dropout)         (None, 32)                0         \n",
            "_________________________________________________________________\n",
            "dense_22 (Dense)             (None, 10)                330       \n",
            "=================================================================\n",
            "Total params: 444,674\n",
            "Trainable params: 444,674\n",
            "Non-trainable params: 0\n",
            "_________________________________________________________________\n",
            "Train on 60000 samples, validate on 10000 samples\n",
            "Epoch 1/10\n",
            "60000/60000 [==============================] - 9s 147us/sample - loss: 1.5915 - acc: 0.5336 - val_loss: 0.4281 - val_acc: 0.8841\n",
            "Epoch 2/10\n",
            "60000/60000 [==============================] - 9s 142us/sample - loss: 0.8303 - acc: 0.7368 - val_loss: 0.3496 - val_acc: 0.8946\n",
            "Epoch 3/10\n",
            "60000/60000 [==============================] - 8s 140us/sample - loss: 0.7043 - acc: 0.7943 - val_loss: 0.2973 - val_acc: 0.9122\n",
            "Epoch 4/10\n",
            "60000/60000 [==============================] - 8s 141us/sample - loss: 0.6355 - acc: 0.8195 - val_loss: 0.2586 - val_acc: 0.9220\n",
            "Epoch 5/10\n",
            "60000/60000 [==============================] - 8s 142us/sample - loss: 0.5813 - acc: 0.8378 - val_loss: 0.2485 - val_acc: 0.9269\n",
            "Epoch 6/10\n",
            "60000/60000 [==============================] - 8s 139us/sample - loss: 0.5442 - acc: 0.8517 - val_loss: 0.2163 - val_acc: 0.9376\n",
            "Epoch 7/10\n",
            "60000/60000 [==============================] - 9s 142us/sample - loss: 0.5105 - acc: 0.8612 - val_loss: 0.1971 - val_acc: 0.9440\n",
            "Epoch 8/10\n",
            "60000/60000 [==============================] - 8s 141us/sample - loss: 0.4882 - acc: 0.8694 - val_loss: 0.1848 - val_acc: 0.9470\n",
            "Epoch 9/10\n",
            "60000/60000 [==============================] - 8s 142us/sample - loss: 0.4615 - acc: 0.8766 - val_loss: 0.1732 - val_acc: 0.9519\n",
            "Epoch 10/10\n",
            "60000/60000 [==============================] - 8s 140us/sample - loss: 0.4431 - acc: 0.8836 - val_loss: 0.1693 - val_acc: 0.9527\n"
          ],
          "name": "stdout"
        }
      ]
    },
    {
      "cell_type": "code",
      "metadata": {
        "id": "Ee0JNv7TwDR2",
        "colab_type": "code",
        "outputId": "2a7443b2-aabe-4317-f162-aa8e73424ae9",
        "colab": {
          "base_uri": "https://localhost:8080/",
          "height": 313
        }
      },
      "source": [
        "print(history.history.keys())\n",
        "print(\"*\"*80)\n",
        "#https://colab.research.google.com/drive/1PMyn9bgjDzhaBm2NO3YQ1f0m-Y2SmZe4#scrollTo=AslSnqQ2QKcF\n",
        "#Plotting the graph.\n",
        "fig,ax = plt.subplots(1,1)\n",
        "ax.set_xlabel('epoch') ; ax.set_ylabel('Categorical Crossentropy Loss')\n",
        "# list of epoch numbers\n",
        "x = list(range(1,11))\n",
        "vy = history.history['val_loss']\n",
        "ty = history.history['loss']\n",
        "plt_dynamic(x, vy, ty, ax)\n"
      ],
      "execution_count": 0,
      "outputs": [
        {
          "output_type": "stream",
          "text": [
            "dict_keys(['loss', 'acc', 'val_loss', 'val_acc'])\n",
            "********************************************************************************\n"
          ],
          "name": "stdout"
        },
        {
          "output_type": "display_data",
          "data": {
            "image/png": "[encoded data removed]",
            "text/plain": [
              "<Figure size 432x288 with 1 Axes>"
            ]
          },
          "metadata": {
            "tags": []
          }
        }
      ]
    },
    {
      "cell_type": "markdown",
      "metadata": {
        "id": "Rywk8Hcexjgm",
        "colab_type": "text"
      },
      "source": [
        "#                                    **Summary of All Models on MNIST Dataset:**"
      ]
    },
    {
      "cell_type": "code",
      "metadata": {
        "id": "_iUJljdlx7W-",
        "colab_type": "code",
        "outputId": "c1b55fab-4b73-4e78-d843-a1da9747489b",
        "colab": {
          "base_uri": "https://localhost:8080/",
          "height": 170
        }
      },
      "source": [
        "#http://zetcode.com/python/prettytable/\n",
        "x = PrettyTable()\n",
        "x.field_names = [\"Model #\", \"#Layers\", \"Dropout+BN\", \"Accuracy\",\"activation f(x)\"]\n",
        "x.add_row([\"Model_1\", \"728-512-64-10\", \"No\", 98.07,\"sigmoid\"])\n",
        "x.add_row([\"Model_2\", \"728-512-64-32-10\", \"Yes\", 97.96,\"hard_sigmoid\"])\n",
        "x.add_row([\"Model_3\", \"728-512-64-32-10\", \"Yes\", 98.11,\"relu\"])\n",
        "x.add_row([\"Model_4\", \"728-480-120-64-32-10\", \"Yes\", 97.30,\"tanh\"])\n",
        "x.add_row([\"Model_5\", \"728-480-120-64-32-10\", \"No\", 95.27,\"selu\"])\n",
        "print(x)"
      ],
      "execution_count": 0,
      "outputs": [
        {
          "output_type": "stream",
          "text": [
            "+---------+----------------------+------------+----------+-----------------+\n",
            "| Model # |       #Layers        | Dropout+BN | Accuracy | activation f(x) |\n",
            "+---------+----------------------+------------+----------+-----------------+\n",
            "| Model_1 |    728-512-64-10     |     No     |  98.07   |     sigmoid     |\n",
            "| Model_2 |   728-512-64-32-10   |    Yes     |  97.96   |   hard_sigmoid  |\n",
            "| Model_3 |   728-512-64-32-10   |    Yes     |  98.11   |       relu      |\n",
            "| Model_4 | 728-480-120-64-32-10 |    Yes     |   97.3   |       tanh      |\n",
            "| Model_5 | 728-480-120-64-32-10 |     No     |  95.27   |       selu      |\n",
            "+---------+----------------------+------------+----------+-----------------+\n"
          ],
          "name": "stdout"
        }
      ]
    }
  ]
}